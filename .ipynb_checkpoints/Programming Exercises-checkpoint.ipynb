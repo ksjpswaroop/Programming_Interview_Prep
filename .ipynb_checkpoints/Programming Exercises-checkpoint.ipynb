{
 "cells": [
  {
   "cell_type": "code",
   "execution_count": 1,
   "metadata": {
    "collapsed": false
   },
   "outputs": [
    {
     "name": "stdout",
     "output_type": "stream",
     "text": [
      "enter a number:1\n",
      "enter a number:2\n",
      "enter a number:-1\n",
      "enter a number:4\n",
      "enter a number:0\n",
      "Positive integers =  3\n",
      "Negative Integers =  1\n",
      "Total =  6\n",
      "Average =  1.5\n"
     ]
    }
   ],
   "source": [
    "#Postive and Negative Numbers\n",
    "def posNegatives():\n",
    "    pos = 0\n",
    "    neg = 0\n",
    "    tot = 0\n",
    "    count = 0\n",
    "    while(True):\n",
    "        a = eval(input(\"enter a number:\"))\n",
    "        if a == 0:\n",
    "            break\n",
    "        else:\n",
    "            count += 1\n",
    "            tot += a\n",
    "            if a > 0:\n",
    "                pos += 1\n",
    "            else:\n",
    "                neg += 1\n",
    "    print(\"Positive integers = \", pos)\n",
    "    print(\"Negative Integers = \", neg)\n",
    "    print(\"Total = \", tot)\n",
    "    print(\"Average = \", tot/count)\n",
    "    \n",
    "    \n",
    "    \n",
    "posNegatives()\n",
    "        \n",
    "        "
   ]
  },
  {
   "cell_type": "code",
   "execution_count": 5,
   "metadata": {
    "collapsed": false
   },
   "outputs": [
    {
     "name": "stdout",
     "output_type": "stream",
     "text": [
      "11 * 1 = 11\n",
      "11 * 2 = 22\n",
      "11 * 3 = 33\n",
      "11 * 4 = 44\n",
      "11 * 5 = 55\n",
      "11 * 6 = 66\n",
      "11 * 7 = 77\n",
      "11 * 8 = 88\n",
      "11 * 9 = 99\n",
      "11 * 10 = 110\n"
     ]
    }
   ],
   "source": [
    "#Multiplication table\n",
    "'''Generate multiplication table and print for number x upto y'''\n",
    "def MulTab(x,y):\n",
    "    for i in range(1,y+1):\n",
    "        print(\"%d * %d = %d\"%(x,i,(x*i)))\n",
    "\n",
    "        \n",
    "MulTab(11,10)"
   ]
  },
  {
   "cell_type": "code",
   "execution_count": 10,
   "metadata": {
    "collapsed": false
   },
   "outputs": [],
   "source": [
    "'''(Find the two highest scores) Write a program that prompts the user to enter the\n",
    "number of students and each student’s score, and displays the highest and secondhighest\n",
    "scores.'''\n",
    "def highTwo(n):\n",
    "    scores = list()\n",
    "    high1 = 0\n",
    "    high2 = 0\n",
    "    for i in range(n):\n",
    "        x = eval(input(\"Enter the score for the student %d :\"%(i+1)))\n",
    "        if x >= high1:\n",
    "            high2 = high1\n",
    "            high1 = x\n",
    "        elif x > high2:\n",
    "            high2 = x\n",
    "    print(\"\\n\\nHighest score = %d \\nsecond Highest = %d\"%(high1,high2))"
   ]
  },
  {
   "cell_type": "code",
   "execution_count": 11,
   "metadata": {
    "collapsed": false
   },
   "outputs": [
    {
     "name": "stdout",
     "output_type": "stream",
     "text": [
      "Enter the score for the student 121\n",
      "Enter the score for the student 221\n",
      "Enter the score for the student 323\n",
      "Enter the score for the student 424\n",
      "Enter the score for the student 525\n",
      "Enter the score for the student 626\n",
      "Enter the score for the student 727\n",
      "Enter the score for the student 828\n",
      "Enter the score for the student 929\n",
      "Enter the score for the student 1030\n",
      "Highest score = 30 \n",
      "second Highest = 29\n"
     ]
    }
   ],
   "source": [
    "highTwo(10)"
   ]
  },
  {
   "cell_type": "markdown",
   "metadata": {},
   "source": []
  }
 ],
 "metadata": {
  "anaconda-cloud": {},
  "kernelspec": {
   "display_name": "Python [conda root]",
   "language": "python",
   "name": "conda-root-py"
  },
  "language_info": {
   "codemirror_mode": {
    "name": "ipython",
    "version": 3
   },
   "file_extension": ".py",
   "mimetype": "text/x-python",
   "name": "python",
   "nbconvert_exporter": "python",
   "pygments_lexer": "ipython3",
   "version": "3.5.2"
  }
 },
 "nbformat": 4,
 "nbformat_minor": 1
}
