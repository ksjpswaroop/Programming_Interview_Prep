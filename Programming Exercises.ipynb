{
 "cells": [
  {
   "cell_type": "code",
   "execution_count": 1,
   "metadata": {
    "collapsed": false
   },
   "outputs": [
    {
     "name": "stdout",
     "output_type": "stream",
     "text": [
      "enter a number:1\n",
      "enter a number:2\n",
      "enter a number:-1\n",
      "enter a number:4\n",
      "enter a number:0\n",
      "Positive integers =  3\n",
      "Negative Integers =  1\n",
      "Total =  6\n",
      "Average =  1.5\n"
     ]
    }
   ],
   "source": [
    "#Postive and Negative Numbers\n",
    "def posNegatives():\n",
    "    pos = 0\n",
    "    neg = 0\n",
    "    tot = 0\n",
    "    count = 0\n",
    "    while(True):\n",
    "        a = eval(input(\"enter a number:\"))\n",
    "        if a == 0:\n",
    "            break\n",
    "        else:\n",
    "            count += 1\n",
    "            tot += a\n",
    "            if a > 0:\n",
    "                pos += 1\n",
    "            else:\n",
    "                neg += 1\n",
    "    print(\"Positive integers = \", pos)\n",
    "    print(\"Negative Integers = \", neg)\n",
    "    print(\"Total = \", tot)\n",
    "    print(\"Average = \", tot/count)\n",
    "    \n",
    "    \n",
    "    \n",
    "posNegatives()\n",
    "        \n",
    "        "
   ]
  },
  {
   "cell_type": "code",
   "execution_count": null,
   "metadata": {
    "collapsed": true
   },
   "outputs": [],
   "source": [
    "#Repeat Additions"
   ]
  }
 ],
 "metadata": {
  "anaconda-cloud": {},
  "kernelspec": {
   "display_name": "Python [conda root]",
   "language": "python",
   "name": "conda-root-py"
  },
  "language_info": {
   "codemirror_mode": {
    "name": "ipython",
    "version": 3
   },
   "file_extension": ".py",
   "mimetype": "text/x-python",
   "name": "python",
   "nbconvert_exporter": "python",
   "pygments_lexer": "ipython3",
   "version": "3.5.2"
  }
 },
 "nbformat": 4,
 "nbformat_minor": 1
}
